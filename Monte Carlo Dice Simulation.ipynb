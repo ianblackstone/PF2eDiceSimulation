{
 "cells": [
  {
   "cell_type": "markdown",
   "metadata": {},
   "source": [
    "We're going to rolls thousands of dice dozens of times until all our lockpicks break or the locks are opened.  Since we don't want to do this one dice at a time we can take advantage of the parallel processing power of the numpy python package which can generate and compare millions of random numbers in seconds."
   ]
  },
  {
   "cell_type": "code",
   "execution_count": 48,
   "metadata": {},
   "outputs": [],
   "source": [
    "# Import numpy, because numpy is the best part of python.\n",
    "# If you disagree fight me.\n",
    "import numpy as np\n",
    "\n",
    "# I'm going to do some comparisons asking whether an object caled NaN (not a number) is greater than some number.\n",
    "# That's going to cause the computer to give a warning telling me that math doesn't work that way.\n",
    "# I don't care about that warning so I'm preemptively turning them off.\n",
    "np.warnings.filterwarnings('ignore')"
   ]
  },
  {
   "cell_type": "code",
   "execution_count": 92,
   "metadata": {},
   "outputs": [],
   "source": [
    "# I'm writing this as a function because that's generally good practice.\n",
    "def PickLocks(DC, Bonus, SuccessesNeeded, NumRuns):\n",
    "    #######################################################################\n",
    "    # This will keep track of NumRuns worth of attempts to pick the lock,\n",
    "    # as picks break or the locks break we set those attempts to NaN so no\n",
    "    # more math can be done on them.\n",
    "    #\n",
    "    # DC -- An integer giving the difficulty class\n",
    "    # Bonus -- An integer giving the bonus to the roll\n",
    "    # SuccessesNeeded -- An integer giving the number of successes needed to\n",
    "    #                    pick the lock successfully.\n",
    "    # NumRuns - An integer giving the number of simulations to run.\n",
    "    #######################################################################\n",
    "    \n",
    "    # We will keep track of the number of successes each lock has on it in this array\n",
    "    # This creates a big list that looks like [0, 0, 0, ...]\n",
    "    Progress = np.zeros(NumRuns)\n",
    "    \n",
    "    # Keep track of the number of locks we have picked, starting at 0.\n",
    "    Picked = 0\n",
    "\n",
    "    # This will loop as long as the condition is true, here we are saying keep running\n",
    "    # until every simulation is set to NaN, which happens on both picks breaking or the\n",
    "    # lock being successfully opened.\n",
    "    while np.sum(np.isnan(Progress)) < NumRuns:\n",
    "        \n",
    "        # Generate a random roll for each simulation, the 20 tells it to use random integers\n",
    "        # from 0 to 19, so we add 1 to it then add the bonus.  The astype('float') is there\n",
    "        # because numpy refuses to mix NaN into an array of integers, so we convert the rolls\n",
    "        # to 0.0, 1.0, etc.\n",
    "        Rolls = np.random.randint(20, size = NumRuns).astype('float') + 1 + Bonus\n",
    "\n",
    "        # find all the picks that broke and take those simulations out of the running by setting\n",
    "        # them to NaN.  There are two ways to crit fail so we check both: getting 10 below the DC\n",
    "        # or (|) we rolled a 1 and (&) failed to hit the DC.\n",
    "        Progress[np.where( (Rolls <= DC-10) | ( (Rolls == 1 + Bonus) & (Rolls < DC) ) ) ] = np.NaN\n",
    "\n",
    "        # Check for critical successes, we only add 1 because the success check will add the other\n",
    "        # one we need.This checks two conditions: is the total DC + 10 or we both rolled a 20 and\n",
    "        # the roll meets the DC.\n",
    "        Progress[np.where( (Rolls >= DC+10 ) | ( (Rolls == 20 + Bonus) & (20 + Bonus >= DC) ))] += 1\n",
    "        \n",
    "        # Check for regular success.  This also checks to two conditions, one that we met the DC and\n",
    "        # the other is that we roll a 20 and didn't crit fail.\n",
    "        Progress[np.where(( (Rolls > DC) | ( (Rolls == 20 + Bonus) & (20 + Bonus > DC - 10) )))] += 1\n",
    "\n",
    "        # Look for any attempts that have met all the successes needed and count them.  The [0] at the\n",
    "        # end is needed because of how numpy formats the where function, without it we get the length +1\n",
    "        # since numpy also stores the datatype in the array as an object.  The [0] tells it to return\n",
    "        # item 0 (the array of all the successful attempts only).\n",
    "        Picked += len(np.where(Progress >= SuccessesNeeded)[0])\n",
    "        \n",
    "        # With that done we end the runs that ended in a picked lock.\n",
    "        Progress[np.where(Progress >= SuccessesNeeded)] = np.NaN\n",
    "    \n",
    "    # Now we return the number of picked locks.  So when you call the PickLocks function all you get back\n",
    "    # is an integer giving you the number of locks that got picked.\n",
    "    return Picked"
   ]
  },
  {
   "cell_type": "code",
   "execution_count": 116,
   "metadata": {},
   "outputs": [],
   "source": [
    "# With the function written we set our parameters\n",
    "DC = 24\n",
    "Bonus = 10\n",
    "SuccessesNeeded = 3\n",
    "# The larger this number the more accurate your simulation will be.  100,000 should be plenty.\n",
    "NumRuns = 100000"
   ]
  },
  {
   "cell_type": "code",
   "execution_count": 117,
   "metadata": {},
   "outputs": [],
   "source": [
    "# The number of runs that ended in a picked lock divided by the number of runs we tried is what we want.\n",
    "Percent = 100 * PickLocks(DC, Bonus, SuccessesNeeded, NumRuns)/NumRuns"
   ]
  },
  {
   "cell_type": "code",
   "execution_count": 118,
   "metadata": {},
   "outputs": [
    {
     "name": "stdout",
     "output_type": "stream",
     "text": [
      "26.17% of runs ended in a picked lock\n"
     ]
    }
   ],
   "source": [
    "# Now we print it, we could just call print(Percent) or even just type Percent, but the format will be ugly.\n",
    "# So we use an f string, telling it to print a sentence and fill in the variable Percent in there, truncating\n",
    "# the variable at 2 decimal places (the :.2f part).\n",
    "print(f'{Percent:.2f}% of runs ended in a picked lock')"
   ]
  },
  {
   "cell_type": "code",
   "execution_count": null,
   "metadata": {},
   "outputs": [],
   "source": []
  }
 ],
 "metadata": {
  "kernelspec": {
   "display_name": "Python 3",
   "language": "python",
   "name": "python3"
  },
  "language_info": {
   "codemirror_mode": {
    "name": "ipython",
    "version": 3
   },
   "file_extension": ".py",
   "mimetype": "text/x-python",
   "name": "python",
   "nbconvert_exporter": "python",
   "pygments_lexer": "ipython3",
   "version": "3.7.9"
  }
 },
 "nbformat": 4,
 "nbformat_minor": 4
}
